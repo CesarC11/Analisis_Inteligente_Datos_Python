{
  "nbformat": 4,
  "nbformat_minor": 0,
  "metadata": {
    "colab": {
      "name": "caso1promedios.ipynb",
      "provenance": [],
      "collapsed_sections": [],
      "authorship_tag": "ABX9TyNxcpWJM6LIyWSuc84gPLNX",
      "include_colab_link": true
    },
    "kernelspec": {
      "name": "python3",
      "display_name": "Python 3"
    },
    "language_info": {
      "name": "python"
    }
  },
  "cells": [
    {
      "cell_type": "markdown",
      "metadata": {
        "id": "view-in-github",
        "colab_type": "text"
      },
      "source": [
        "<a href=\"https://colab.research.google.com/github/CesarC11/Analisis_Inteligente_Datos_Python/blob/main/caso1promedios.ipynb\" target=\"_parent\"><img src=\"https://colab.research.google.com/assets/colab-badge.svg\" alt=\"Open In Colab\"/></a>"
      ]
    },
    {
      "cell_type": "markdown",
      "metadata": {
        "id": "FMJttaqpx69w"
      },
      "source": [
        "#  Análisis descriptivo de promedios de alumnos\n",
        "\n",
        "## Objetivo\n",
        "\n",
        "Realizar un análisis descriptivo de la variable promedio del conjunto de datos alumnos.\n",
        "\n",
        "## Descripción \n",
        "\n",
        "Leer el archivo de promedios.csv y determinar algunos estadísticos.\n",
        "\n",
        "Determinar la media y la desviación estándar de los datos.\n",
        "\n",
        "Elaborar un histograma de los datos para identificar l ditribució de los valores numéricos de promedios de alumnos.\n",
        "\n",
        "## Desarrollo\n",
        "\n",
        "### Importar los datos\n",
        "Se utliza la función read_csv() de la librería pandas para importar daos en formato csv"
      ]
    },
    {
      "cell_type": "code",
      "metadata": {
        "id": "F28f7-vnQcxS"
      },
      "source": [
        "import pandas as pd\n",
        "promedios = pd.read_csv(\"https://raw.githubusercontent.com/rpizarrog/Analisis-Inteligente-de-datos-prueba/main/datos/promedios.csv\")\n"
      ],
      "execution_count": 1,
      "outputs": []
    },
    {
      "cell_type": "markdown",
      "metadata": {
        "id": "0O2-CeloyGrn"
      },
      "source": [
        "### Mostrar los datos\n",
        "Se visualizan los datos"
      ]
    },
    {
      "cell_type": "code",
      "metadata": {
        "colab": {
          "base_uri": "https://localhost:8080/"
        },
        "id": "Iq_DWuX0yHp5",
        "outputId": "52f1640e-b2d9-4688-82f1-a75609f8672c"
      },
      "source": [
        "print(promedios)"
      ],
      "execution_count": 2,
      "outputs": [
        {
          "output_type": "stream",
          "name": "stdout",
          "text": [
            "        no   promedio\n",
            "0        1  91.608914\n",
            "1        2  86.685638\n",
            "2        3  84.062916\n",
            "3        4  80.946240\n",
            "4        5  88.497999\n",
            "...    ...        ...\n",
            "5595  5596  87.749383\n",
            "5596  5597  86.643837\n",
            "5597  5598  88.444287\n",
            "5598  5599  88.198064\n",
            "5599  5600  83.749403\n",
            "\n",
            "[5600 rows x 2 columns]\n"
          ]
        }
      ]
    },
    {
      "cell_type": "markdown",
      "metadata": {
        "id": "eyb_krrDyMIx"
      },
      "source": [
        "Determinar la media con la función mean()"
      ]
    },
    {
      "cell_type": "code",
      "metadata": {
        "colab": {
          "base_uri": "https://localhost:8080/"
        },
        "id": "jMCy_ZtzyOdj",
        "outputId": "1b5ad297-5dc9-49ed-ec37-5c18d9b0401f"
      },
      "source": [
        "import numpy as np\n",
        "\n",
        "np.mean(promedios, 0)\n"
      ],
      "execution_count": 4,
      "outputs": [
        {
          "output_type": "execute_result",
          "data": {
            "text/plain": [
              "no          2800.500000\n",
              "promedio      84.014145\n",
              "dtype: float64"
            ]
          },
          "metadata": {},
          "execution_count": 4
        }
      ]
    },
    {
      "cell_type": "markdown",
      "metadata": {
        "id": "aY3u5geFyTY3"
      },
      "source": [
        "### Acceder a promedio como variable de interés\n",
        "\n",
        "Acceder solo a la variable de interés promedio con la función loc[] del conjunto de datos y determinar la media y la desviación estaándar\n"
      ]
    },
    {
      "cell_type": "code",
      "metadata": {
        "colab": {
          "base_uri": "https://localhost:8080/"
        },
        "id": "FlLSyKo4yUNX",
        "outputId": "28f0bc28-99cd-42b7-c8f0-ed25505a7e6f"
      },
      "source": [
        "np.mean(promedios.loc[:, 'promedio'])\n"
      ],
      "execution_count": 5,
      "outputs": [
        {
          "output_type": "execute_result",
          "data": {
            "text/plain": [
              "84.01414500206607"
            ]
          },
          "metadata": {},
          "execution_count": 5
        }
      ]
    },
    {
      "cell_type": "code",
      "metadata": {
        "colab": {
          "base_uri": "https://localhost:8080/"
        },
        "id": "9DVJTWUDWrfE",
        "outputId": "ff24b4f2-d780-4ac8-ea38-6a29f720a3e7"
      },
      "source": [
        "np.std(promedios.loc[:, 'promedio'])"
      ],
      "execution_count": 6,
      "outputs": [
        {
          "output_type": "execute_result",
          "data": {
            "text/plain": [
              "4.97091611849249"
            ]
          },
          "metadata": {},
          "execution_count": 6
        }
      ]
    },
    {
      "cell_type": "markdown",
      "metadata": {
        "id": "aTCcd1vZW9K-"
      },
      "source": [
        "Análisis descriptivo con la función describe(), devuelve otros estadísticos de utilidad"
      ]
    },
    {
      "cell_type": "code",
      "metadata": {
        "colab": {
          "base_uri": "https://localhost:8080/"
        },
        "id": "SkyU-W7wW-0M",
        "outputId": "95bc06ce-9f8b-424e-c3df-f6f61c3ddbdc"
      },
      "source": [
        "promedios.loc[:, 'promedio'].describe()"
      ],
      "execution_count": 7,
      "outputs": [
        {
          "output_type": "execute_result",
          "data": {
            "text/plain": [
              "count    5600.000000\n",
              "mean       84.014145\n",
              "std         4.971360\n",
              "min        67.421455\n",
              "25%        80.790432\n",
              "50%        84.006861\n",
              "75%        87.243679\n",
              "max       100.691558\n",
              "Name: promedio, dtype: float64"
            ]
          },
          "metadata": {},
          "execution_count": 7
        }
      ]
    },
    {
      "cell_type": "markdown",
      "metadata": {
        "id": "MdedNTyrXJGo"
      },
      "source": [
        "## Histograma\n",
        "Representar con la función para crear histograma"
      ]
    },
    {
      "cell_type": "code",
      "metadata": {
        "colab": {
          "base_uri": "https://localhost:8080/",
          "height": 499
        },
        "id": "Qz3uuGbMXLm-",
        "outputId": "2cd481e8-1747-40fc-a0d0-11aaaf53249d"
      },
      "source": [
        "import matplotlib.pyplot as plot\n",
        "\n",
        "promed = promedios.loc[:, 'promedio']\n",
        "print(promed)\n",
        "\n",
        "plot.hist(x=promed, color='#F2AB6D', rwidth=0.85)\n",
        "plot.title('Histograma de promedios ')\n",
        "plot.xlabel('Promedios')\n",
        "plot.ylabel('Cantidades')\n",
        "\n",
        "plot.show() #dibujamos el histograma"
      ],
      "execution_count": 8,
      "outputs": [
        {
          "output_type": "stream",
          "name": "stdout",
          "text": [
            "0       91.608914\n",
            "1       86.685638\n",
            "2       84.062916\n",
            "3       80.946240\n",
            "4       88.497999\n",
            "          ...    \n",
            "5595    87.749383\n",
            "5596    86.643837\n",
            "5597    88.444287\n",
            "5598    88.198064\n",
            "5599    83.749403\n",
            "Name: promedio, Length: 5600, dtype: float64\n"
          ]
        },
        {
          "output_type": "display_data",
          "data": {
            "image/png": "[encoded data removed]",
            "text/plain": [
              "<Figure size 432x288 with 1 Axes>"
            ]
          },
          "metadata": {
            "needs_background": "light"
          }
        }
      ]
    },
    {
      "cell_type": "markdown",
      "metadata": {
        "id": "6TBnJIs9X2nU"
      },
      "source": [
        "# Interpretación\n",
        "\n",
        "Para finalizar este caso me gustaría aportar un breve resumen de cómo me ayudó a comprender de una mejor manera el utilizar los promedios para el desglose de los datos y así poder conocer los resultados de la gráfica respecto a los promedios y la información que se proporciona en las tablas, como por ejemplo el promedio de la población que está en el 84.01 es un buen resultado, también la desviación estándard que arroja un resultado aproximado de 4.9 significa es muy interesante y recalca la lógica del resultado del promedio y para finalizar el histograma que nos muestra el resultado de todos los datos, también podemos reiterar la media y analizar cuántos están por debajo y por encima de la misma. "
      ]
    }
  ]
}