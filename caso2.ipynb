{
  "nbformat": 4,
  "nbformat_minor": 0,
  "metadata": {
    "colab": {
      "name": "caso2.ipynb",
      "provenance": [],
      "authorship_tag": "ABX9TyNU6wTmzAoxhFHHlQ6DFcII",
      "include_colab_link": true
    },
    "kernelspec": {
      "name": "python3",
      "display_name": "Python 3"
    },
    "language_info": {
      "name": "python"
    }
  },
  "cells": [
    {
      "cell_type": "markdown",
      "metadata": {
        "id": "view-in-github",
        "colab_type": "text"
      },
      "source": [
        "<a href=\"https://colab.research.google.com/github/CesarC11/Analisis_Inteligente_Datos_Python/blob/main/caso2.ipynb\" target=\"_parent\"><img src=\"https://colab.research.google.com/assets/colab-badge.svg\" alt=\"Open In Colab\"/></a>"
      ]
    },
    {
      "cell_type": "markdown",
      "metadata": {
        "id": "SAe8FugRNeWL"
      },
      "source": [
        "#Cesar Cervantes Barraza\n",
        "##NC 17041287\n",
        "##Objetivo\n",
        "Elaborar un análisis descriptivo de un datos de películas"
      ]
    },
    {
      "cell_type": "markdown",
      "metadata": {
        "id": "PmZRAJ7GNpzF"
      },
      "source": [
        "##Decripción\n",
        "Cargar los datos de peliculas.\n",
        "\n",
        "Analizar decriptivamente las variables cuantitativas de duración de película, rating y valor económico para determinar los estadísticos de valores medios, desviaciones estándar, máximos y mínimos de esas variables cuantitativas para su correcta interpretación.\n",
        "\n",
        "Analizar la frecuncia de los géneros de las películas para conocer las frecuencias de las mismas.\n",
        "\n",
        "Visualizar (hacer grácica) mediante diagrama histograma las variables cuantitativas de duración de película, rating y valor económico\n",
        "\n",
        "Visualizar (hacer gráfica) mediante diagrama de barra la variable cualitativa género."
      ]
    },
    {
      "cell_type": "markdown",
      "metadata": {
        "id": "nHCIbRVhNu4x"
      },
      "source": [
        "##Desarrollo\n",
        "Se cargan los datos de películas de la dirección: https://github.com/rpizarrog/Analisis-Inteligente-de-datos"
      ]
    },
    {
      "cell_type": "code",
      "metadata": {
        "colab": {
          "base_uri": "https://localhost:8080/",
          "height": 979
        },
        "id": "CMi9P48wJijj",
        "outputId": "f1a796b5-785a-4e60-b345-d1d1f0f113c6"
      },
      "source": [
        "import pandas as pd\n",
        "peliculas = pd.read_csv(\"https://raw.githubusercontent.com/rpizarrog/Analisis-Inteligente-de-datos/main/datos/movies-db.csv\")\n",
        "\n",
        "peliculas\n"
      ],
      "execution_count": null,
      "outputs": [
        {
          "output_type": "execute_result",
          "data": {
            "text/html": [
              "<div>\n",
              "<style scoped>\n",
              "    .dataframe tbody tr th:only-of-type {\n",
              "        vertical-align: middle;\n",
              "    }\n",
              "\n",
              "    .dataframe tbody tr th {\n",
              "        vertical-align: top;\n",
              "    }\n",
              "\n",
              "    .dataframe thead th {\n",
              "        text-align: right;\n",
              "    }\n",
              "</style>\n",
              "<table border=\"1\" class=\"dataframe\">\n",
              "  <thead>\n",
              "    <tr style=\"text-align: right;\">\n",
              "      <th></th>\n",
              "      <th>name</th>\n",
              "      <th>year</th>\n",
              "      <th>length_min</th>\n",
              "      <th>genre</th>\n",
              "      <th>average_rating</th>\n",
              "      <th>cost_millions</th>\n",
              "      <th>foreign</th>\n",
              "      <th>age_restriction</th>\n",
              "    </tr>\n",
              "  </thead>\n",
              "  <tbody>\n",
              "    <tr>\n",
              "      <th>0</th>\n",
              "      <td>Toy Story</td>\n",
              "      <td>1995</td>\n",
              "      <td>81</td>\n",
              "      <td>Animation</td>\n",
              "      <td>8.3</td>\n",
              "      <td>30.0</td>\n",
              "      <td>0</td>\n",
              "      <td>0</td>\n",
              "    </tr>\n",
              "    <tr>\n",
              "      <th>1</th>\n",
              "      <td>Akira</td>\n",
              "      <td>1998</td>\n",
              "      <td>125</td>\n",
              "      <td>Animation</td>\n",
              "      <td>8.1</td>\n",
              "      <td>10.4</td>\n",
              "      <td>1</td>\n",
              "      <td>14</td>\n",
              "    </tr>\n",
              "    <tr>\n",
              "      <th>2</th>\n",
              "      <td>The Breakfast Club</td>\n",
              "      <td>1985</td>\n",
              "      <td>97</td>\n",
              "      <td>Drama</td>\n",
              "      <td>7.9</td>\n",
              "      <td>1.0</td>\n",
              "      <td>0</td>\n",
              "      <td>14</td>\n",
              "    </tr>\n",
              "    <tr>\n",
              "      <th>3</th>\n",
              "      <td>The Artist</td>\n",
              "      <td>2011</td>\n",
              "      <td>100</td>\n",
              "      <td>Romance</td>\n",
              "      <td>8.0</td>\n",
              "      <td>15.0</td>\n",
              "      <td>1</td>\n",
              "      <td>12</td>\n",
              "    </tr>\n",
              "    <tr>\n",
              "      <th>4</th>\n",
              "      <td>Modern Times</td>\n",
              "      <td>1936</td>\n",
              "      <td>87</td>\n",
              "      <td>Comedy</td>\n",
              "      <td>8.6</td>\n",
              "      <td>1.5</td>\n",
              "      <td>0</td>\n",
              "      <td>10</td>\n",
              "    </tr>\n",
              "    <tr>\n",
              "      <th>5</th>\n",
              "      <td>Fight Club</td>\n",
              "      <td>1999</td>\n",
              "      <td>139</td>\n",
              "      <td>Drama</td>\n",
              "      <td>8.9</td>\n",
              "      <td>63.0</td>\n",
              "      <td>0</td>\n",
              "      <td>18</td>\n",
              "    </tr>\n",
              "    <tr>\n",
              "      <th>6</th>\n",
              "      <td>City of God</td>\n",
              "      <td>2002</td>\n",
              "      <td>130</td>\n",
              "      <td>Crime</td>\n",
              "      <td>8.7</td>\n",
              "      <td>3.3</td>\n",
              "      <td>1</td>\n",
              "      <td>18</td>\n",
              "    </tr>\n",
              "    <tr>\n",
              "      <th>7</th>\n",
              "      <td>The Untouchables</td>\n",
              "      <td>1987</td>\n",
              "      <td>119</td>\n",
              "      <td>Drama</td>\n",
              "      <td>7.9</td>\n",
              "      <td>25.0</td>\n",
              "      <td>0</td>\n",
              "      <td>14</td>\n",
              "    </tr>\n",
              "    <tr>\n",
              "      <th>8</th>\n",
              "      <td>Star Wars Episode IV</td>\n",
              "      <td>1977</td>\n",
              "      <td>121</td>\n",
              "      <td>Action</td>\n",
              "      <td>8.7</td>\n",
              "      <td>11.0</td>\n",
              "      <td>0</td>\n",
              "      <td>10</td>\n",
              "    </tr>\n",
              "    <tr>\n",
              "      <th>9</th>\n",
              "      <td>American Beauty</td>\n",
              "      <td>1999</td>\n",
              "      <td>122</td>\n",
              "      <td>Drama</td>\n",
              "      <td>8.4</td>\n",
              "      <td>15.0</td>\n",
              "      <td>0</td>\n",
              "      <td>14</td>\n",
              "    </tr>\n",
              "    <tr>\n",
              "      <th>10</th>\n",
              "      <td>Room</td>\n",
              "      <td>2015</td>\n",
              "      <td>118</td>\n",
              "      <td>Drama</td>\n",
              "      <td>8.3</td>\n",
              "      <td>13.0</td>\n",
              "      <td>1</td>\n",
              "      <td>14</td>\n",
              "    </tr>\n",
              "    <tr>\n",
              "      <th>11</th>\n",
              "      <td>Dr. Strangelove</td>\n",
              "      <td>1964</td>\n",
              "      <td>94</td>\n",
              "      <td>Comedy</td>\n",
              "      <td>8.5</td>\n",
              "      <td>1.8</td>\n",
              "      <td>1</td>\n",
              "      <td>10</td>\n",
              "    </tr>\n",
              "    <tr>\n",
              "      <th>12</th>\n",
              "      <td>The Ring</td>\n",
              "      <td>1998</td>\n",
              "      <td>95</td>\n",
              "      <td>Horror</td>\n",
              "      <td>7.3</td>\n",
              "      <td>1.2</td>\n",
              "      <td>1</td>\n",
              "      <td>18</td>\n",
              "    </tr>\n",
              "    <tr>\n",
              "      <th>13</th>\n",
              "      <td>Monty Python and the Holy Grail</td>\n",
              "      <td>1975</td>\n",
              "      <td>91</td>\n",
              "      <td>Comedy</td>\n",
              "      <td>8.3</td>\n",
              "      <td>0.4</td>\n",
              "      <td>1</td>\n",
              "      <td>18</td>\n",
              "    </tr>\n",
              "    <tr>\n",
              "      <th>14</th>\n",
              "      <td>High School Musical</td>\n",
              "      <td>2006</td>\n",
              "      <td>98</td>\n",
              "      <td>Comedy</td>\n",
              "      <td>5.2</td>\n",
              "      <td>4.2</td>\n",
              "      <td>0</td>\n",
              "      <td>0</td>\n",
              "    </tr>\n",
              "    <tr>\n",
              "      <th>15</th>\n",
              "      <td>Shaun of the Dead</td>\n",
              "      <td>2004</td>\n",
              "      <td>99</td>\n",
              "      <td>Horror</td>\n",
              "      <td>8.0</td>\n",
              "      <td>6.1</td>\n",
              "      <td>1</td>\n",
              "      <td>18</td>\n",
              "    </tr>\n",
              "    <tr>\n",
              "      <th>16</th>\n",
              "      <td>Taxi Driver</td>\n",
              "      <td>1976</td>\n",
              "      <td>113</td>\n",
              "      <td>Crime</td>\n",
              "      <td>8.3</td>\n",
              "      <td>1.3</td>\n",
              "      <td>1</td>\n",
              "      <td>14</td>\n",
              "    </tr>\n",
              "    <tr>\n",
              "      <th>17</th>\n",
              "      <td>The Shawshank Redemption</td>\n",
              "      <td>1994</td>\n",
              "      <td>142</td>\n",
              "      <td>Crime</td>\n",
              "      <td>9.3</td>\n",
              "      <td>25.0</td>\n",
              "      <td>0</td>\n",
              "      <td>16</td>\n",
              "    </tr>\n",
              "    <tr>\n",
              "      <th>18</th>\n",
              "      <td>Interstellar</td>\n",
              "      <td>2014</td>\n",
              "      <td>169</td>\n",
              "      <td>Adventure</td>\n",
              "      <td>8.6</td>\n",
              "      <td>165.0</td>\n",
              "      <td>0</td>\n",
              "      <td>10</td>\n",
              "    </tr>\n",
              "    <tr>\n",
              "      <th>19</th>\n",
              "      <td>Casino</td>\n",
              "      <td>1995</td>\n",
              "      <td>178</td>\n",
              "      <td>Biography</td>\n",
              "      <td>8.2</td>\n",
              "      <td>50.0</td>\n",
              "      <td>0</td>\n",
              "      <td>18</td>\n",
              "    </tr>\n",
              "    <tr>\n",
              "      <th>20</th>\n",
              "      <td>The Goodfellas</td>\n",
              "      <td>1990</td>\n",
              "      <td>145</td>\n",
              "      <td>Biography</td>\n",
              "      <td>8.7</td>\n",
              "      <td>25.0</td>\n",
              "      <td>0</td>\n",
              "      <td>14</td>\n",
              "    </tr>\n",
              "    <tr>\n",
              "      <th>21</th>\n",
              "      <td>Blue is the Warmest Colour</td>\n",
              "      <td>2013</td>\n",
              "      <td>179</td>\n",
              "      <td>Romance</td>\n",
              "      <td>7.8</td>\n",
              "      <td>4.5</td>\n",
              "      <td>1</td>\n",
              "      <td>18</td>\n",
              "    </tr>\n",
              "    <tr>\n",
              "      <th>22</th>\n",
              "      <td>Black Swan</td>\n",
              "      <td>2010</td>\n",
              "      <td>108</td>\n",
              "      <td>Thriller</td>\n",
              "      <td>8.0</td>\n",
              "      <td>13.0</td>\n",
              "      <td>0</td>\n",
              "      <td>16</td>\n",
              "    </tr>\n",
              "    <tr>\n",
              "      <th>23</th>\n",
              "      <td>Back to the Future</td>\n",
              "      <td>1985</td>\n",
              "      <td>116</td>\n",
              "      <td>Sci-fi</td>\n",
              "      <td>8.5</td>\n",
              "      <td>19.0</td>\n",
              "      <td>0</td>\n",
              "      <td>0</td>\n",
              "    </tr>\n",
              "    <tr>\n",
              "      <th>24</th>\n",
              "      <td>The Wave</td>\n",
              "      <td>2008</td>\n",
              "      <td>107</td>\n",
              "      <td>Thriller</td>\n",
              "      <td>7.6</td>\n",
              "      <td>5.5</td>\n",
              "      <td>1</td>\n",
              "      <td>16</td>\n",
              "    </tr>\n",
              "    <tr>\n",
              "      <th>25</th>\n",
              "      <td>Whiplash</td>\n",
              "      <td>2014</td>\n",
              "      <td>106</td>\n",
              "      <td>Drama</td>\n",
              "      <td>8.5</td>\n",
              "      <td>3.3</td>\n",
              "      <td>1</td>\n",
              "      <td>12</td>\n",
              "    </tr>\n",
              "    <tr>\n",
              "      <th>26</th>\n",
              "      <td>The Grand Hotel Budapest</td>\n",
              "      <td>2014</td>\n",
              "      <td>100</td>\n",
              "      <td>Crime</td>\n",
              "      <td>8.1</td>\n",
              "      <td>25.5</td>\n",
              "      <td>0</td>\n",
              "      <td>14</td>\n",
              "    </tr>\n",
              "    <tr>\n",
              "      <th>27</th>\n",
              "      <td>Jumanji</td>\n",
              "      <td>1995</td>\n",
              "      <td>104</td>\n",
              "      <td>Fantasy</td>\n",
              "      <td>6.9</td>\n",
              "      <td>65.0</td>\n",
              "      <td>0</td>\n",
              "      <td>12</td>\n",
              "    </tr>\n",
              "    <tr>\n",
              "      <th>28</th>\n",
              "      <td>The Eternal Sunshine of the Spotless Mind</td>\n",
              "      <td>2004</td>\n",
              "      <td>108</td>\n",
              "      <td>Drama</td>\n",
              "      <td>8.3</td>\n",
              "      <td>20.0</td>\n",
              "      <td>0</td>\n",
              "      <td>14</td>\n",
              "    </tr>\n",
              "    <tr>\n",
              "      <th>29</th>\n",
              "      <td>Chicago</td>\n",
              "      <td>2002</td>\n",
              "      <td>113</td>\n",
              "      <td>Comedy</td>\n",
              "      <td>7.2</td>\n",
              "      <td>45.0</td>\n",
              "      <td>0</td>\n",
              "      <td>12</td>\n",
              "    </tr>\n",
              "  </tbody>\n",
              "</table>\n",
              "</div>"
            ],
            "text/plain": [
              "                                         name  year  ...  foreign age_restriction\n",
              "0                                   Toy Story  1995  ...        0               0\n",
              "1                                       Akira  1998  ...        1              14\n",
              "2                          The Breakfast Club  1985  ...        0              14\n",
              "3                                  The Artist  2011  ...        1              12\n",
              "4                                Modern Times  1936  ...        0              10\n",
              "5                                  Fight Club  1999  ...        0              18\n",
              "6                                 City of God  2002  ...        1              18\n",
              "7                            The Untouchables  1987  ...        0              14\n",
              "8                        Star Wars Episode IV  1977  ...        0              10\n",
              "9                             American Beauty  1999  ...        0              14\n",
              "10                                       Room  2015  ...        1              14\n",
              "11                            Dr. Strangelove  1964  ...        1              10\n",
              "12                                   The Ring  1998  ...        1              18\n",
              "13            Monty Python and the Holy Grail  1975  ...        1              18\n",
              "14                        High School Musical  2006  ...        0               0\n",
              "15                          Shaun of the Dead  2004  ...        1              18\n",
              "16                                Taxi Driver  1976  ...        1              14\n",
              "17                   The Shawshank Redemption  1994  ...        0              16\n",
              "18                               Interstellar  2014  ...        0              10\n",
              "19                                     Casino  1995  ...        0              18\n",
              "20                             The Goodfellas  1990  ...        0              14\n",
              "21                 Blue is the Warmest Colour  2013  ...        1              18\n",
              "22                                 Black Swan  2010  ...        0              16\n",
              "23                         Back to the Future  1985  ...        0               0\n",
              "24                                   The Wave  2008  ...        1              16\n",
              "25                                   Whiplash  2014  ...        1              12\n",
              "26                   The Grand Hotel Budapest  2014  ...        0              14\n",
              "27                                    Jumanji  1995  ...        0              12\n",
              "28  The Eternal Sunshine of the Spotless Mind  2004  ...        0              14\n",
              "29                                    Chicago  2002  ...        0              12\n",
              "\n",
              "[30 rows x 8 columns]"
            ]
          },
          "metadata": {},
          "execution_count": 1
        }
      ]
    },
    {
      "cell_type": "markdown",
      "metadata": {
        "id": "B7zFNoICN4y3"
      },
      "source": [
        "##duración de película, rating y valor económico\n",
        "* length_min: la variable significa cuánto tiempo dura en minutos cada película\n",
        "* average_rating: significa el valor de aceptación = popularidad = importancia = jerarqupia = rating\n",
        "* cost_millions: significa el valor económico de la película"
      ]
    },
    {
      "cell_type": "code",
      "metadata": {
        "colab": {
          "base_uri": "https://localhost:8080/",
          "height": 297
        },
        "id": "-DuRbAK0OBJj",
        "outputId": "7b3a8839-b524-4787-bfc6-86605b1bb07a"
      },
      "source": [
        "# Pendiente solo las variables de interés\n",
        "peliculas.describe()"
      ],
      "execution_count": null,
      "outputs": [
        {
          "output_type": "execute_result",
          "data": {
            "text/html": [
              "<div>\n",
              "<style scoped>\n",
              "    .dataframe tbody tr th:only-of-type {\n",
              "        vertical-align: middle;\n",
              "    }\n",
              "\n",
              "    .dataframe tbody tr th {\n",
              "        vertical-align: top;\n",
              "    }\n",
              "\n",
              "    .dataframe thead th {\n",
              "        text-align: right;\n",
              "    }\n",
              "</style>\n",
              "<table border=\"1\" class=\"dataframe\">\n",
              "  <thead>\n",
              "    <tr style=\"text-align: right;\">\n",
              "      <th></th>\n",
              "      <th>year</th>\n",
              "      <th>length_min</th>\n",
              "      <th>average_rating</th>\n",
              "      <th>cost_millions</th>\n",
              "      <th>foreign</th>\n",
              "      <th>age_restriction</th>\n",
              "    </tr>\n",
              "  </thead>\n",
              "  <tbody>\n",
              "    <tr>\n",
              "      <th>count</th>\n",
              "      <td>30.000000</td>\n",
              "      <td>30.000000</td>\n",
              "      <td>30.000000</td>\n",
              "      <td>30.000000</td>\n",
              "      <td>30.000000</td>\n",
              "      <td>30.000000</td>\n",
              "    </tr>\n",
              "    <tr>\n",
              "      <th>mean</th>\n",
              "      <td>1995.500000</td>\n",
              "      <td>116.800000</td>\n",
              "      <td>8.103333</td>\n",
              "      <td>22.300000</td>\n",
              "      <td>0.400000</td>\n",
              "      <td>12.933333</td>\n",
              "    </tr>\n",
              "    <tr>\n",
              "      <th>std</th>\n",
              "      <td>17.318019</td>\n",
              "      <td>25.306943</td>\n",
              "      <td>0.747171</td>\n",
              "      <td>32.358775</td>\n",
              "      <td>0.498273</td>\n",
              "      <td>5.112077</td>\n",
              "    </tr>\n",
              "    <tr>\n",
              "      <th>min</th>\n",
              "      <td>1936.000000</td>\n",
              "      <td>81.000000</td>\n",
              "      <td>5.200000</td>\n",
              "      <td>0.400000</td>\n",
              "      <td>0.000000</td>\n",
              "      <td>0.000000</td>\n",
              "    </tr>\n",
              "    <tr>\n",
              "      <th>25%</th>\n",
              "      <td>1987.750000</td>\n",
              "      <td>99.250000</td>\n",
              "      <td>7.925000</td>\n",
              "      <td>3.525000</td>\n",
              "      <td>0.000000</td>\n",
              "      <td>12.000000</td>\n",
              "    </tr>\n",
              "    <tr>\n",
              "      <th>50%</th>\n",
              "      <td>1998.500000</td>\n",
              "      <td>110.500000</td>\n",
              "      <td>8.300000</td>\n",
              "      <td>13.000000</td>\n",
              "      <td>0.000000</td>\n",
              "      <td>14.000000</td>\n",
              "    </tr>\n",
              "    <tr>\n",
              "      <th>75%</th>\n",
              "      <td>2007.500000</td>\n",
              "      <td>124.250000</td>\n",
              "      <td>8.500000</td>\n",
              "      <td>25.000000</td>\n",
              "      <td>1.000000</td>\n",
              "      <td>16.000000</td>\n",
              "    </tr>\n",
              "    <tr>\n",
              "      <th>max</th>\n",
              "      <td>2015.000000</td>\n",
              "      <td>179.000000</td>\n",
              "      <td>9.300000</td>\n",
              "      <td>165.000000</td>\n",
              "      <td>1.000000</td>\n",
              "      <td>18.000000</td>\n",
              "    </tr>\n",
              "  </tbody>\n",
              "</table>\n",
              "</div>"
            ],
            "text/plain": [
              "              year  length_min  ...    foreign  age_restriction\n",
              "count    30.000000   30.000000  ...  30.000000        30.000000\n",
              "mean   1995.500000  116.800000  ...   0.400000        12.933333\n",
              "std      17.318019   25.306943  ...   0.498273         5.112077\n",
              "min    1936.000000   81.000000  ...   0.000000         0.000000\n",
              "25%    1987.750000   99.250000  ...   0.000000        12.000000\n",
              "50%    1998.500000  110.500000  ...   0.000000        14.000000\n",
              "75%    2007.500000  124.250000  ...   1.000000        16.000000\n",
              "max    2015.000000  179.000000  ...   1.000000        18.000000\n",
              "\n",
              "[8 rows x 6 columns]"
            ]
          },
          "metadata": {},
          "execution_count": 2
        }
      ]
    },
    {
      "cell_type": "markdown",
      "metadata": {
        "id": "AATuzQ6TOCBz"
      },
      "source": [
        "##Histogramas de variables cuantitativas\n",
        "##Duración"
      ]
    },
    {
      "cell_type": "code",
      "metadata": {
        "colab": {
          "base_uri": "https://localhost:8080/",
          "height": 822
        },
        "id": "LWMBDFh9OFPP",
        "outputId": "5fa481b4-f3b0-45f8-e305-e515de5d3eb2"
      },
      "source": [
        "import matplotlib.pyplot as plot\n",
        "\n",
        "tiempo = peliculas.loc[:, 'length_min']\n",
        "print(tiempo)\n",
        "\n",
        "plot.hist(x=tiempo,color='#F2AB6D', rwidth=0.85)\n",
        "plot.title('Histograma de tiempo (length_min) ')\n",
        "plot.xlabel('Tiempo')\n",
        "plot.ylabel('Cantidades')\n",
        "\n",
        "plot.show() #dibujamos el histogram"
      ],
      "execution_count": null,
      "outputs": [
        {
          "output_type": "stream",
          "name": "stdout",
          "text": [
            "0      81\n",
            "1     125\n",
            "2      97\n",
            "3     100\n",
            "4      87\n",
            "5     139\n",
            "6     130\n",
            "7     119\n",
            "8     121\n",
            "9     122\n",
            "10    118\n",
            "11     94\n",
            "12     95\n",
            "13     91\n",
            "14     98\n",
            "15     99\n",
            "16    113\n",
            "17    142\n",
            "18    169\n",
            "19    178\n",
            "20    145\n",
            "21    179\n",
            "22    108\n",
            "23    116\n",
            "24    107\n",
            "25    106\n",
            "26    100\n",
            "27    104\n",
            "28    108\n",
            "29    113\n",
            "Name: length_min, dtype: int64\n"
          ]
        },
        {
          "output_type": "display_data",
          "data": {
            "image/png": "[encoded data removed]",
            "text/plain": [
              "<Figure size 432x288 with 1 Axes>"
            ]
          },
          "metadata": {
            "needs_background": "light"
          }
        }
      ]
    },
    {
      "cell_type": "markdown",
      "metadata": {
        "id": "PU7AZO3JOKts"
      },
      "source": [
        "##average_rating"
      ]
    },
    {
      "cell_type": "code",
      "metadata": {
        "colab": {
          "base_uri": "https://localhost:8080/",
          "height": 839
        },
        "id": "TmepY9qeOMSO",
        "outputId": "5cc6eb3a-2d99-46a1-f7d5-8869327a096c"
      },
      "source": [
        "rating = peliculas.loc[:, 'average_rating']\n",
        "print(rating)\n",
        "\n",
        "plot.hist(x=rating,color='#F2AB6D', rwidth=0.85)\n",
        "plot.title('Histograma de rating (average_rating) ')\n",
        "plot.xlabel('Rating')\n",
        "plot.ylabel('Cantidades')"
      ],
      "execution_count": null,
      "outputs": [
        {
          "output_type": "stream",
          "name": "stdout",
          "text": [
            "0     8.3\n",
            "1     8.1\n",
            "2     7.9\n",
            "3     8.0\n",
            "4     8.6\n",
            "5     8.9\n",
            "6     8.7\n",
            "7     7.9\n",
            "8     8.7\n",
            "9     8.4\n",
            "10    8.3\n",
            "11    8.5\n",
            "12    7.3\n",
            "13    8.3\n",
            "14    5.2\n",
            "15    8.0\n",
            "16    8.3\n",
            "17    9.3\n",
            "18    8.6\n",
            "19    8.2\n",
            "20    8.7\n",
            "21    7.8\n",
            "22    8.0\n",
            "23    8.5\n",
            "24    7.6\n",
            "25    8.5\n",
            "26    8.1\n",
            "27    6.9\n",
            "28    8.3\n",
            "29    7.2\n",
            "Name: average_rating, dtype: float64\n"
          ]
        },
        {
          "output_type": "execute_result",
          "data": {
            "text/plain": [
              "Text(0, 0.5, 'Cantidades')"
            ]
          },
          "metadata": {},
          "execution_count": 4
        },
        {
          "output_type": "display_data",
          "data": {
            "image/png": "[encoded data removed]",
            "text/plain": [
              "<Figure size 432x288 with 1 Axes>"
            ]
          },
          "metadata": {
            "needs_background": "light"
          }
        }
      ]
    },
    {
      "cell_type": "markdown",
      "metadata": {
        "id": "NRpNWgqTOO67"
      },
      "source": [
        "##cost_millions"
      ]
    },
    {
      "cell_type": "code",
      "metadata": {
        "colab": {
          "base_uri": "https://localhost:8080/",
          "height": 839
        },
        "id": "z3_GWFokOQqj",
        "outputId": "a308a79a-47f0-4fea-e9d7-1cd8ac80a44f"
      },
      "source": [
        "costo = peliculas.loc[:, 'cost_millions']\n",
        "print(costo)\n",
        "\n",
        "plot.hist(x=costo,color='#F2AB6D', rwidth=0.85)\n",
        "plot.title('Histograma de Costo (cost_millions) ')\n",
        "plot.xlabel('Costo')\n",
        "plot.ylabel('Cantidades')"
      ],
      "execution_count": null,
      "outputs": [
        {
          "output_type": "stream",
          "name": "stdout",
          "text": [
            "0      30.0\n",
            "1      10.4\n",
            "2       1.0\n",
            "3      15.0\n",
            "4       1.5\n",
            "5      63.0\n",
            "6       3.3\n",
            "7      25.0\n",
            "8      11.0\n",
            "9      15.0\n",
            "10     13.0\n",
            "11      1.8\n",
            "12      1.2\n",
            "13      0.4\n",
            "14      4.2\n",
            "15      6.1\n",
            "16      1.3\n",
            "17     25.0\n",
            "18    165.0\n",
            "19     50.0\n",
            "20     25.0\n",
            "21      4.5\n",
            "22     13.0\n",
            "23     19.0\n",
            "24      5.5\n",
            "25      3.3\n",
            "26     25.5\n",
            "27     65.0\n",
            "28     20.0\n",
            "29     45.0\n",
            "Name: cost_millions, dtype: float64\n"
          ]
        },
        {
          "output_type": "execute_result",
          "data": {
            "text/plain": [
              "Text(0, 0.5, 'Cantidades')"
            ]
          },
          "metadata": {},
          "execution_count": 5
        },
        {
          "output_type": "display_data",
          "data": {
            "image/png": "[encoded data removed]",
            "text/plain": [
              "<Figure size 432x288 with 1 Axes>"
            ]
          },
          "metadata": {
            "needs_background": "light"
          }
        }
      ]
    },
    {
      "cell_type": "markdown",
      "metadata": {
        "id": "9JpV95ysOTdC"
      },
      "source": [
        "##Gráfica de barras de genre de peliculas\n",
        "##Tabla de Frecuencias de género de Películas\n",
        "Se muestra una tabla de frecuencia de clases o variable categórica (cualitativa) de género de películas genre\n",
        "\n",
        "Se utiliza la función value_counts() de pandas por la variable genre del data.frame peliculas"
      ]
    },
    {
      "cell_type": "code",
      "metadata": {
        "colab": {
          "base_uri": "https://localhost:8080/"
        },
        "id": "OjbHxn6bOWpX",
        "outputId": "37a83dd0-c813-491a-9d07-356cd7f6a269"
      },
      "source": [
        "\n",
        "pd.value_counts(peliculas['genre'])"
      ],
      "execution_count": null,
      "outputs": [
        {
          "output_type": "execute_result",
          "data": {
            "text/plain": [
              "Drama        7\n",
              "Comedy       5\n",
              "Crime        4\n",
              "Animation    2\n",
              "Biography    2\n",
              "Horror       2\n",
              "Thriller     2\n",
              "Romance      2\n",
              "Action       1\n",
              "Adventure    1\n",
              "Sci-fi       1\n",
              "Fantasy      1\n",
              "Name: genre, dtype: int64"
            ]
          },
          "metadata": {},
          "execution_count": 6
        }
      ]
    },
    {
      "cell_type": "markdown",
      "metadata": {
        "id": "dT0oXWQ-OX4A"
      },
      "source": [
        "##Gráfico de Barras de frecuencia de género de películas\n",
        "Con pandas, se utiliza el método o función plot() para variables visualziar datos. Para este ejemplo contar la frecuencia y un tipo de datos barra."
      ]
    },
    {
      "cell_type": "code",
      "metadata": {
        "colab": {
          "base_uri": "https://localhost:8080/",
          "height": 323
        },
        "id": "0GrZZfovOasC",
        "outputId": "ac99a43d-b4cd-4370-fdcf-450cfb7b679d"
      },
      "source": [
        "plot = peliculas['genre'].value_counts().plot(kind='bar',\n",
        "                                            title='Género de Películas')"
      ],
      "execution_count": null,
      "outputs": [
        {
          "output_type": "display_data",
          "data": {
            "image/png": "[encoded data removed]",
            "text/plain": [
              "<Figure size 432x288 with 1 Axes>"
            ]
          },
          "metadata": {
            "needs_background": "light"
          }
        }
      ]
    },
    {
      "cell_type": "markdown",
      "metadata": {
        "id": "vxzXNIGDOcbC"
      },
      "source": [
        "##Interpretación\n",
        "\n",
        "Usamos un poco más las gráficas para poder visualizar los datos de una manera más clara y poder comparar los valores de las tablas de una manera gráfica y así evitar confusiones con los datos y conseguir la información que se requiera."
      ]
    }
  ]
}